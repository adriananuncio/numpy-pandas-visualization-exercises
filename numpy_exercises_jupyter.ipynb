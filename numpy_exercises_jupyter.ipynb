{
 "cells": [
  {
   "cell_type": "code",
   "execution_count": 1,
   "id": "44c003ae",
   "metadata": {},
   "outputs": [],
   "source": [
    "import numpy as np"
   ]
  },
  {
   "cell_type": "markdown",
   "id": "62c35848",
   "metadata": {},
   "source": [
    "##### 1. How many negative numbers are there?"
   ]
  },
  {
   "cell_type": "code",
   "execution_count": 65,
   "id": "28734803",
   "metadata": {},
   "outputs": [],
   "source": [
    "a = np.array([4, 10, 12, 23, -2, -1, 0, 0, 0, -6, 3, -7])"
   ]
  },
  {
   "cell_type": "code",
   "execution_count": 32,
   "id": "cac0c2fc",
   "metadata": {},
   "outputs": [
    {
     "data": {
      "text/plain": [
       "numpy.ndarray"
      ]
     },
     "execution_count": 32,
     "metadata": {},
     "output_type": "execute_result"
    }
   ],
   "source": [
    "type(a)"
   ]
  },
  {
   "cell_type": "code",
   "execution_count": 29,
   "id": "1a5b0fb2",
   "metadata": {},
   "outputs": [
    {
     "data": {
      "text/plain": [
       "array([-2, -1, -6, -7])"
      ]
     },
     "execution_count": 29,
     "metadata": {},
     "output_type": "execute_result"
    }
   ],
   "source": [
    "(a[a<0])\n",
    "    "
   ]
  },
  {
   "cell_type": "code",
   "execution_count": 30,
   "id": "87c0eb57",
   "metadata": {},
   "outputs": [
    {
     "data": {
      "text/plain": [
       "4"
      ]
     },
     "execution_count": 30,
     "metadata": {},
     "output_type": "execute_result"
    }
   ],
   "source": [
    "len(a[a<0])"
   ]
  },
  {
   "cell_type": "code",
   "execution_count": null,
   "id": "d90833ad",
   "metadata": {},
   "outputs": [],
   "source": [
    "# There are 4 negative numbers."
   ]
  },
  {
   "cell_type": "markdown",
   "id": "210d08db",
   "metadata": {},
   "source": [
    "##### 2. How many positive numbers are there?"
   ]
  },
  {
   "cell_type": "code",
   "execution_count": 33,
   "id": "f8bce160",
   "metadata": {},
   "outputs": [
    {
     "data": {
      "text/plain": [
       "5"
      ]
     },
     "execution_count": 33,
     "metadata": {},
     "output_type": "execute_result"
    }
   ],
   "source": [
    "len(a[a>0])"
   ]
  },
  {
   "cell_type": "code",
   "execution_count": null,
   "id": "5a52f702",
   "metadata": {},
   "outputs": [],
   "source": [
    "# There are 5 positive numbers."
   ]
  },
  {
   "cell_type": "markdown",
   "id": "6cf3befe",
   "metadata": {},
   "source": [
    "##### 3. How many even positive numbers are there?"
   ]
  },
  {
   "cell_type": "code",
   "execution_count": 69,
   "id": "abc85363",
   "metadata": {},
   "outputs": [],
   "source": [
    "ep_output = a\n",
    "for i in ep_output:\n",
    "    if i % 2 == 0:\n",
    "        ep_output\n"
   ]
  },
  {
   "cell_type": "code",
   "execution_count": 70,
   "id": "0d2017ff",
   "metadata": {},
   "outputs": [
    {
     "data": {
      "text/plain": [
       "array([ 4, 10, 12, 23, -2, -1,  0,  0,  0, -6,  3, -7])"
      ]
     },
     "execution_count": 70,
     "metadata": {},
     "output_type": "execute_result"
    }
   ],
   "source": [
    "ep_output"
   ]
  },
  {
   "cell_type": "code",
   "execution_count": 67,
   "id": "771c3649",
   "metadata": {},
   "outputs": [
    {
     "data": {
      "text/plain": [
       "numpy.ndarray"
      ]
     },
     "execution_count": 67,
     "metadata": {},
     "output_type": "execute_result"
    }
   ],
   "source": [
    "type(a)"
   ]
  },
  {
   "cell_type": "code",
   "execution_count": 78,
   "id": "bedbce9c",
   "metadata": {},
   "outputs": [
    {
     "data": {
      "text/plain": [
       "array([ 4, 10, 12])"
      ]
     },
     "execution_count": 78,
     "metadata": {},
     "output_type": "execute_result"
    }
   ],
   "source": [
    "a[(a%2 == 0) & (a>0)]"
   ]
  },
  {
   "cell_type": "code",
   "execution_count": null,
   "id": "5891034c",
   "metadata": {},
   "outputs": [],
   "source": [
    "# There are 3 even positive numbers."
   ]
  },
  {
   "cell_type": "markdown",
   "id": "c173cf15",
   "metadata": {},
   "source": [
    "##### If you were to add 3 to each data point, how many positive numbers would there be?"
   ]
  },
  {
   "cell_type": "code",
   "execution_count": 85,
   "id": "5dd6a493",
   "metadata": {},
   "outputs": [
    {
     "data": {
      "text/plain": [
       "array([ 7, 13, 15, 26,  1,  2,  3,  3,  3, -3,  6, -4])"
      ]
     },
     "execution_count": 85,
     "metadata": {},
     "output_type": "execute_result"
    }
   ],
   "source": [
    "a_plus_three = a + 3\n",
    "\n",
    "a_plus_three"
   ]
  },
  {
   "cell_type": "code",
   "execution_count": 90,
   "id": "708355ee",
   "metadata": {},
   "outputs": [
    {
     "data": {
      "text/plain": [
       "array([ 7, 13, 15, 26,  1,  2,  3,  3,  3,  6])"
      ]
     },
     "execution_count": 90,
     "metadata": {},
     "output_type": "execute_result"
    }
   ],
   "source": [
    "a_plus_three[a_plus_three > 0]"
   ]
  },
  {
   "cell_type": "code",
   "execution_count": 91,
   "id": "8a284333",
   "metadata": {},
   "outputs": [
    {
     "data": {
      "text/plain": [
       "10"
      ]
     },
     "execution_count": 91,
     "metadata": {},
     "output_type": "execute_result"
    }
   ],
   "source": [
    "len(a_plus_three[a_plus_three > 0])"
   ]
  },
  {
   "cell_type": "code",
   "execution_count": 92,
   "id": "bcef30e5",
   "metadata": {},
   "outputs": [],
   "source": [
    "# If you add 3 to each data point, \n",
    "## there are 10 positive numbers"
   ]
  },
  {
   "cell_type": "markdown",
   "id": "6b4b1e74",
   "metadata": {},
   "source": [
    "##### 5. If you squared each number, what would the new mean and standard deviation be?"
   ]
  },
  {
   "cell_type": "code",
   "execution_count": 93,
   "id": "31f5527d",
   "metadata": {},
   "outputs": [
    {
     "data": {
      "text/plain": [
       "array([ 4, 10, 12, 23, -2, -1,  0,  0,  0, -6,  3, -7])"
      ]
     },
     "execution_count": 93,
     "metadata": {},
     "output_type": "execute_result"
    }
   ],
   "source": [
    "a"
   ]
  },
  {
   "cell_type": "code",
   "execution_count": 94,
   "id": "4eeba8e4",
   "metadata": {},
   "outputs": [
    {
     "data": {
      "text/plain": [
       "(3.0, 8.06225774829855)"
      ]
     },
     "execution_count": 94,
     "metadata": {},
     "output_type": "execute_result"
    }
   ],
   "source": [
    "a.mean(), a.std()"
   ]
  },
  {
   "cell_type": "code",
   "execution_count": 96,
   "id": "ad9ad1d7",
   "metadata": {},
   "outputs": [
    {
     "data": {
      "text/plain": [
       "array([ 16, 100, 144, 529,   4,   1,   0,   0,   0,  36,   9,  49])"
      ]
     },
     "execution_count": 96,
     "metadata": {},
     "output_type": "execute_result"
    }
   ],
   "source": [
    "a_squared = a*a\n",
    "\n",
    "a_squared"
   ]
  },
  {
   "cell_type": "code",
   "execution_count": 97,
   "id": "f3211489",
   "metadata": {},
   "outputs": [
    {
     "data": {
      "text/plain": [
       "(74.0, 144.0243035046516)"
      ]
     },
     "execution_count": 97,
     "metadata": {},
     "output_type": "execute_result"
    }
   ],
   "source": [
    "a_squared.mean(), a_squared.std()"
   ]
  },
  {
   "cell_type": "code",
   "execution_count": 98,
   "id": "d43ce54b",
   "metadata": {},
   "outputs": [],
   "source": [
    "# The original mean and std are:\n",
    "# mean: 3.0\n",
    "# std: 8.06225774829855\n",
    "\n",
    "# If you square each number, \n",
    "# the new mean is: 74.0,\n",
    "# the new std is: 144.0243035046516"
   ]
  },
  {
   "cell_type": "markdown",
   "id": "c88d5d35",
   "metadata": {},
   "source": [
    "##### 6. A common statistical operation on a dataset is centering. This means to adjust the data such that the mean of the data is 0. This is done by subtracting the mean from each data point. Center the data set."
   ]
  },
  {
   "cell_type": "code",
   "execution_count": 100,
   "id": "3a88462b",
   "metadata": {},
   "outputs": [
    {
     "data": {
      "text/plain": [
       "array([  1.,   7.,   9.,  20.,  -5.,  -4.,  -3.,  -3.,  -3.,  -9.,   0.,\n",
       "       -10.])"
      ]
     },
     "execution_count": 100,
     "metadata": {},
     "output_type": "execute_result"
    }
   ],
   "source": [
    "center = a - a.mean()\n",
    "\n",
    "center"
   ]
  },
  {
   "cell_type": "code",
   "execution_count": 103,
   "id": "4ac8121e",
   "metadata": {},
   "outputs": [],
   "source": [
    "# The centered data set is:\n",
    "# array([  1.,   7.,   9.,  20.,  -5.,\n",
    "#        -4.,  -3.,  -3.,  -3.,  -9.,   0., -10.])"
   ]
  },
  {
   "cell_type": "markdown",
   "id": "2185603d",
   "metadata": {},
   "source": [
    "##### Calculate the z-score for each data point"
   ]
  },
  {
   "cell_type": "code",
   "execution_count": 105,
   "id": "f93b52ed",
   "metadata": {},
   "outputs": [
    {
     "data": {
      "text/plain": [
       "array([ 0.12403473,  0.86824314,  1.11631261,  2.48069469, -0.62017367,\n",
       "       -0.49613894, -0.3721042 , -0.3721042 , -0.3721042 , -1.11631261,\n",
       "        0.        , -1.24034735])"
      ]
     },
     "execution_count": 105,
     "metadata": {},
     "output_type": "execute_result"
    }
   ],
   "source": [
    "z_score = (a - a.mean())/a.std()\n",
    "\n",
    "z_score"
   ]
  },
  {
   "cell_type": "code",
   "execution_count": 106,
   "id": "3f9efd23",
   "metadata": {},
   "outputs": [],
   "source": [
    "# The z-score for each data point is:\n",
    "#array([ 0.12403473,  0.86824314,  1.11631261,  2.48069469,\n",
    "#       -0.62017367, -0.49613894, -0.3721042 , -0.3721042 ,\n",
    "#        -0.3721042 , -1.11631261, 0.        , -1.24034735])"
   ]
  },
  {
   "cell_type": "markdown",
   "id": "0be873ff",
   "metadata": {},
   "source": [
    "##### "
   ]
  },
  {
   "cell_type": "markdown",
   "id": "364af929",
   "metadata": {},
   "source": [
    "##### "
   ]
  },
  {
   "cell_type": "markdown",
   "id": "43b429b5",
   "metadata": {},
   "source": [
    "##### "
   ]
  },
  {
   "cell_type": "markdown",
   "id": "e5f0e4bc",
   "metadata": {},
   "source": [
    "### More Numpy Practice"
   ]
  },
  {
   "cell_type": "code",
   "execution_count": 108,
   "id": "0690e8fc",
   "metadata": {},
   "outputs": [],
   "source": [
    "import numpy as np\n",
    "# Life w/o numpy to life with numpy\n",
    "\n",
    "## Setup 1\n",
    "a = [1, 2, 3, 4, 5, 6, 7, 8, 9, 10]\n",
    "\n",
    "# Use python's built in functionality/operators\n",
    "## to determine the following:"
   ]
  },
  {
   "cell_type": "markdown",
   "id": "f3e0a176",
   "metadata": {},
   "source": [
    "##### Convert a to an array"
   ]
  },
  {
   "cell_type": "code",
   "execution_count": 112,
   "id": "b251c84e",
   "metadata": {},
   "outputs": [
    {
     "data": {
      "text/plain": [
       "list"
      ]
     },
     "execution_count": 112,
     "metadata": {},
     "output_type": "execute_result"
    }
   ],
   "source": [
    "a = [1, 2, 3, 4, 5, 6, 7, 8, 9, 10]\n",
    "\n",
    "type(a)"
   ]
  },
  {
   "cell_type": "code",
   "execution_count": 113,
   "id": "15112481",
   "metadata": {},
   "outputs": [
    {
     "data": {
      "text/plain": [
       "array([ 1,  2,  3,  4,  5,  6,  7,  8,  9, 10])"
      ]
     },
     "execution_count": 113,
     "metadata": {},
     "output_type": "execute_result"
    }
   ],
   "source": [
    "b = np.array(a)\n",
    "\n",
    "b"
   ]
  },
  {
   "cell_type": "code",
   "execution_count": 114,
   "id": "d1d92472",
   "metadata": {},
   "outputs": [
    {
     "data": {
      "text/plain": [
       "numpy.ndarray"
      ]
     },
     "execution_count": 114,
     "metadata": {},
     "output_type": "execute_result"
    }
   ],
   "source": [
    "type(b)"
   ]
  },
  {
   "cell_type": "markdown",
   "id": "2836467c",
   "metadata": {},
   "source": [
    "##### Exercise 1. Make a variable called sum_of_a to hold the sum of all the numbers in above list"
   ]
  },
  {
   "cell_type": "code",
   "execution_count": 115,
   "id": "aa732351",
   "metadata": {},
   "outputs": [
    {
     "data": {
      "text/plain": [
       "55"
      ]
     },
     "execution_count": 115,
     "metadata": {},
     "output_type": "execute_result"
    }
   ],
   "source": [
    "sum_of_a = b.sum()\n",
    "\n",
    "sum_of_a"
   ]
  },
  {
   "cell_type": "markdown",
   "id": "99b03f00",
   "metadata": {},
   "source": [
    "##### Exercise 2. Make a variable named min_of_a to hold the minimum of all the numbers in the above list"
   ]
  },
  {
   "cell_type": "code",
   "execution_count": 116,
   "id": "f11b2a31",
   "metadata": {},
   "outputs": [
    {
     "data": {
      "text/plain": [
       "1"
      ]
     },
     "execution_count": 116,
     "metadata": {},
     "output_type": "execute_result"
    }
   ],
   "source": [
    "min_of_a = b.min()\n",
    "\n",
    "min_of_a"
   ]
  },
  {
   "cell_type": "markdown",
   "id": "7301b1dc",
   "metadata": {},
   "source": [
    "##### Exercise 3. Make a variable named max_of_a to hold the max number of all the numbers in the above list"
   ]
  },
  {
   "cell_type": "code",
   "execution_count": 117,
   "id": "e675270c",
   "metadata": {},
   "outputs": [
    {
     "data": {
      "text/plain": [
       "10"
      ]
     },
     "execution_count": 117,
     "metadata": {},
     "output_type": "execute_result"
    }
   ],
   "source": [
    "max_of_a = b.max()\n",
    "\n",
    "max_of_a"
   ]
  },
  {
   "cell_type": "markdown",
   "id": "2e374cef",
   "metadata": {},
   "source": [
    "##### Exercise 4. Make a variable named mean_of_a to hold the average of all the numbers in the above list"
   ]
  },
  {
   "cell_type": "code",
   "execution_count": 118,
   "id": "899e16de",
   "metadata": {},
   "outputs": [
    {
     "data": {
      "text/plain": [
       "5.5"
      ]
     },
     "execution_count": 118,
     "metadata": {},
     "output_type": "execute_result"
    }
   ],
   "source": [
    "mean_of_a = b.mean()\n",
    "\n",
    "mean_of_a"
   ]
  },
  {
   "cell_type": "markdown",
   "id": "89f6c83d",
   "metadata": {},
   "source": [
    "##### Exercise 5. Make a variable named product_of_a to hold the product of multiplying all the numbers in the above list together"
   ]
  },
  {
   "cell_type": "code",
   "execution_count": 120,
   "id": "95c100a6",
   "metadata": {},
   "outputs": [
    {
     "data": {
      "text/plain": [
       "3628800"
      ]
     },
     "execution_count": 120,
     "metadata": {},
     "output_type": "execute_result"
    }
   ],
   "source": [
    "product_of_a = np.prod(b)\n",
    "\n",
    "product_of_a"
   ]
  },
  {
   "cell_type": "markdown",
   "id": "1a25a4aa",
   "metadata": {},
   "source": [
    "##### Exercise 6. Make a variable named squares_of_a. It should hold each number in a squared like [1, 4, 9, 16, 25...]"
   ]
  },
  {
   "cell_type": "code",
   "execution_count": 122,
   "id": "97b73c80",
   "metadata": {},
   "outputs": [
    {
     "data": {
      "text/plain": [
       "array([  1,   4,   9,  16,  25,  36,  49,  64,  81, 100])"
      ]
     },
     "execution_count": 122,
     "metadata": {},
     "output_type": "execute_result"
    }
   ],
   "source": [
    "squares_of_a = b*b\n",
    "\n",
    "squares_of_a"
   ]
  },
  {
   "cell_type": "markdown",
   "id": "ea205583",
   "metadata": {},
   "source": [
    "##### Exercise 7. Make a variable named odds_in_a. It should hold only the odd numbers"
   ]
  },
  {
   "cell_type": "code",
   "execution_count": 125,
   "id": "d9c26108",
   "metadata": {},
   "outputs": [
    {
     "data": {
      "text/plain": [
       "array([1, 3, 5, 7, 9])"
      ]
     },
     "execution_count": 125,
     "metadata": {},
     "output_type": "execute_result"
    }
   ],
   "source": [
    "odds_in_a = b[b % 2 != 0]\n",
    "\n",
    "odds_in_a"
   ]
  },
  {
   "cell_type": "markdown",
   "id": "d2ed2cab",
   "metadata": {},
   "source": [
    "##### Exercise 8. Make a variable named evens_in_a. It should hold only the evens."
   ]
  },
  {
   "cell_type": "code",
   "execution_count": 126,
   "id": "5d20c7d1",
   "metadata": {},
   "outputs": [
    {
     "data": {
      "text/plain": [
       "array([ 2,  4,  6,  8, 10])"
      ]
     },
     "execution_count": 126,
     "metadata": {},
     "output_type": "execute_result"
    }
   ],
   "source": [
    "evens_in_a = b[b % 2 == 0]\n",
    "\n",
    "evens_in_a"
   ]
  },
  {
   "cell_type": "markdown",
   "id": "e47a632f",
   "metadata": {},
   "source": [
    "##### "
   ]
  },
  {
   "cell_type": "markdown",
   "id": "456f0d49",
   "metadata": {},
   "source": [
    "## Setup 2\n",
    "Consider what it would take to find the sum, min, max, average, sum, product, and list of squares for this list of two lists.\n",
    "b = [\n",
    "    [3, 4, 5],\n",
    "    [6, 7, 8]\n",
    "]"
   ]
  },
  {
   "cell_type": "code",
   "execution_count": 127,
   "id": "aa78cfc8",
   "metadata": {},
   "outputs": [],
   "source": [
    "b = [\n",
    "    [3, 4, 5],\n",
    "    [6, 7, 8]\n",
    "]"
   ]
  },
  {
   "cell_type": "markdown",
   "id": "674d087c",
   "metadata": {},
   "source": [
    "##### Exercise 1 - refactor the following to use numpy. \n",
    "##### Use sum_of_b as the variable. \n",
    "##### **Hint, you'll first need to make sure that \n",
    "##### the \"b\" variable is a numpy array**"
   ]
  },
  {
   "cell_type": "code",
   "execution_count": 133,
   "id": "7274d4e5",
   "metadata": {},
   "outputs": [
    {
     "data": {
      "text/plain": [
       "array([[3, 4, 5],\n",
       "       [6, 7, 8]])"
      ]
     },
     "execution_count": 133,
     "metadata": {},
     "output_type": "execute_result"
    }
   ],
   "source": [
    "c = np.array(b)\n",
    "\n",
    "c"
   ]
  },
  {
   "cell_type": "code",
   "execution_count": 134,
   "id": "b4f1532d",
   "metadata": {},
   "outputs": [
    {
     "data": {
      "text/plain": [
       "33"
      ]
     },
     "execution_count": 134,
     "metadata": {},
     "output_type": "execute_result"
    }
   ],
   "source": [
    "sum_of_b = 0\n",
    "for row in c:\n",
    "    sum_of_b += sum(row)\n",
    "    \n",
    "sum_of_b"
   ]
  },
  {
   "cell_type": "markdown",
   "id": "8d210aae",
   "metadata": {},
   "source": [
    "##### Exercise 2. Refactor the following to use numpy. "
   ]
  },
  {
   "cell_type": "code",
   "execution_count": 136,
   "id": "31d19c41",
   "metadata": {},
   "outputs": [
    {
     "data": {
      "text/plain": [
       "3"
      ]
     },
     "execution_count": 136,
     "metadata": {},
     "output_type": "execute_result"
    }
   ],
   "source": [
    "min_of_b = min(c[0]) if min(c[0]) <= min(c[1]) else min(c[1])\n",
    "\n",
    "min_of_b"
   ]
  },
  {
   "cell_type": "markdown",
   "id": "0dbcd3e9",
   "metadata": {},
   "source": [
    "##### Exercise 3. Refactor the following maximum calculation to find the answer with numpy."
   ]
  },
  {
   "cell_type": "code",
   "execution_count": 138,
   "id": "531b03d8",
   "metadata": {},
   "outputs": [
    {
     "data": {
      "text/plain": [
       "8"
      ]
     },
     "execution_count": 138,
     "metadata": {},
     "output_type": "execute_result"
    }
   ],
   "source": [
    "max_of_b = max(c[0]) if max(c[0]) >= max(c[1]) else max(c[1])\n",
    "\n",
    "max_of_b"
   ]
  },
  {
   "cell_type": "markdown",
   "id": "8f4340d2",
   "metadata": {},
   "source": [
    "##### Exercise 4. Refactor the following using numpy to find the mean of b"
   ]
  },
  {
   "cell_type": "code",
   "execution_count": 139,
   "id": "0f00429a",
   "metadata": {},
   "outputs": [
    {
     "data": {
      "text/plain": [
       "5.5"
      ]
     },
     "execution_count": 139,
     "metadata": {},
     "output_type": "execute_result"
    }
   ],
   "source": [
    "mean_of_b = (sum(c[0]) + sum(c[1])) / (len(c[0]) + len(c[1]))\n",
    "\n",
    "mean_of_b"
   ]
  },
  {
   "cell_type": "markdown",
   "id": "243279a7",
   "metadata": {},
   "source": [
    "##### Exercise 5. Refactor the following to use numpy for calculating the product of all numbers multiplied together."
   ]
  },
  {
   "cell_type": "code",
   "execution_count": 141,
   "id": "7a82ac4d",
   "metadata": {},
   "outputs": [
    {
     "data": {
      "text/plain": [
       "20160"
      ]
     },
     "execution_count": 141,
     "metadata": {},
     "output_type": "execute_result"
    }
   ],
   "source": [
    "product_of_b = 1\n",
    "for row in c:\n",
    "    for number in row:\n",
    "        product_of_b *= number\n",
    "        \n",
    "product_of_b"
   ]
  },
  {
   "cell_type": "markdown",
   "id": "5eb33fdb",
   "metadata": {},
   "source": [
    "##### Exercise 6. Refactor the following to use numpy to find the list of squares "
   ]
  },
  {
   "cell_type": "code",
   "execution_count": 143,
   "id": "2981a9bd",
   "metadata": {},
   "outputs": [
    {
     "data": {
      "text/plain": [
       "[9, 16, 25, 36, 49, 64]"
      ]
     },
     "execution_count": 143,
     "metadata": {},
     "output_type": "execute_result"
    }
   ],
   "source": [
    "squares_of_b = []\n",
    "for row in c:\n",
    "    for number in row:\n",
    "        squares_of_b.append(number**2)\n",
    "        \n",
    "squares_of_b"
   ]
  },
  {
   "cell_type": "markdown",
   "id": "6dcd693a",
   "metadata": {},
   "source": [
    "##### Exercise 7. Refactor using numpy to determine the odds_in_b"
   ]
  },
  {
   "cell_type": "code",
   "execution_count": 144,
   "id": "b3bb0cd9",
   "metadata": {},
   "outputs": [
    {
     "data": {
      "text/plain": [
       "[3, 5, 7]"
      ]
     },
     "execution_count": 144,
     "metadata": {},
     "output_type": "execute_result"
    }
   ],
   "source": [
    "odds_in_b = []\n",
    "for row in c:\n",
    "    for number in row:\n",
    "        if(number % 2 != 0):\n",
    "            odds_in_b.append(number)\n",
    "            \n",
    "odds_in_b"
   ]
  },
  {
   "cell_type": "markdown",
   "id": "193bb75d",
   "metadata": {},
   "source": [
    "##### Exercise 8. Refactor the following to use numpy to filter only the even numbers"
   ]
  },
  {
   "cell_type": "code",
   "execution_count": 145,
   "id": "02c006df",
   "metadata": {},
   "outputs": [
    {
     "data": {
      "text/plain": [
       "array([ 2,  4,  6,  8, 10])"
      ]
     },
     "execution_count": 145,
     "metadata": {},
     "output_type": "execute_result"
    }
   ],
   "source": [
    "evens_in_b = []\n",
    "for row in c:\n",
    "    for number in row:\n",
    "        if(number % 2 == 0):\n",
    "            evens_in_b.append(number)\n",
    "            \n",
    "evens_in_a"
   ]
  },
  {
   "cell_type": "markdown",
   "id": "75d7586d",
   "metadata": {},
   "source": [
    "##### Exercise 9. Print out the shape of the array b."
   ]
  },
  {
   "cell_type": "code",
   "execution_count": 146,
   "id": "f802d3b2",
   "metadata": {},
   "outputs": [
    {
     "name": "stdout",
     "output_type": "stream",
     "text": [
      "(2, 3)\n"
     ]
    }
   ],
   "source": [
    "print(c.shape)"
   ]
  },
  {
   "cell_type": "markdown",
   "id": "a78196d5",
   "metadata": {},
   "source": [
    "##### Exercise 10. Transpose the array b."
   ]
  },
  {
   "cell_type": "code",
   "execution_count": 147,
   "id": "cabd7a63",
   "metadata": {},
   "outputs": [
    {
     "data": {
      "text/plain": [
       "array([[3, 6],\n",
       "       [4, 7],\n",
       "       [5, 8]])"
      ]
     },
     "execution_count": 147,
     "metadata": {},
     "output_type": "execute_result"
    }
   ],
   "source": [
    "np.transpose(c)"
   ]
  },
  {
   "cell_type": "markdown",
   "id": "bfc5777e",
   "metadata": {},
   "source": [
    "##### Exercise 11. Reshape the array b to be a single list of 6 numbers. (1 x 6)"
   ]
  },
  {
   "cell_type": "code",
   "execution_count": 149,
   "id": "d4d63948",
   "metadata": {},
   "outputs": [
    {
     "data": {
      "text/plain": [
       "array([[3, 4, 5, 6, 7, 8]])"
      ]
     },
     "execution_count": 149,
     "metadata": {},
     "output_type": "execute_result"
    }
   ],
   "source": [
    "np.reshape(c, (1, 6))"
   ]
  },
  {
   "cell_type": "markdown",
   "id": "86cb905a",
   "metadata": {},
   "source": [
    "##### Exercise 12. Reshape the array b to be a list of 6 lists, each containing only 1 number (6 x 1)"
   ]
  },
  {
   "cell_type": "code",
   "execution_count": 150,
   "id": "f987d6d8",
   "metadata": {},
   "outputs": [
    {
     "data": {
      "text/plain": [
       "array([[3],\n",
       "       [4],\n",
       "       [5],\n",
       "       [6],\n",
       "       [7],\n",
       "       [8]])"
      ]
     },
     "execution_count": 150,
     "metadata": {},
     "output_type": "execute_result"
    }
   ],
   "source": [
    "np.reshape(c, (6, 1))"
   ]
  },
  {
   "cell_type": "markdown",
   "id": "464a9327",
   "metadata": {},
   "source": [
    "## Setup 3"
   ]
  },
  {
   "cell_type": "code",
   "execution_count": 153,
   "id": "5898aaa7",
   "metadata": {},
   "outputs": [],
   "source": [
    "c = [\n",
    "    [1, 2, 3],\n",
    "    [4, 5, 6],\n",
    "    [7, 8, 9]\n",
    "]\n",
    "\n",
    "# HINT, you'll first need to make sure that\n",
    "# the \"c\" variable is a numpy array prior to \n",
    "# using numpy array methods."
   ]
  },
  {
   "cell_type": "code",
   "execution_count": 154,
   "id": "a724fa24",
   "metadata": {},
   "outputs": [
    {
     "data": {
      "text/plain": [
       "array([[1, 2, 3],\n",
       "       [4, 5, 6],\n",
       "       [7, 8, 9]])"
      ]
     },
     "execution_count": 154,
     "metadata": {},
     "output_type": "execute_result"
    }
   ],
   "source": [
    "d = np.array(c)\n",
    "\n",
    "d"
   ]
  },
  {
   "cell_type": "markdown",
   "id": "7ec95183",
   "metadata": {},
   "source": [
    "##### Exercise 1. Find the min, max, sum, and product of c."
   ]
  },
  {
   "cell_type": "code",
   "execution_count": 156,
   "id": "6aa9d57a",
   "metadata": {},
   "outputs": [
    {
     "data": {
      "text/plain": [
       "(1, 9, 45, 362880)"
      ]
     },
     "execution_count": 156,
     "metadata": {},
     "output_type": "execute_result"
    }
   ],
   "source": [
    "d.min(), d.max(), d.sum(), np.prod(c)"
   ]
  },
  {
   "cell_type": "markdown",
   "id": "588bc148",
   "metadata": {},
   "source": [
    "##### Exercise 2. Determine the standard deviation of c."
   ]
  },
  {
   "cell_type": "code",
   "execution_count": 157,
   "id": "0ab695e3",
   "metadata": {},
   "outputs": [
    {
     "data": {
      "text/plain": [
       "2.581988897471611"
      ]
     },
     "execution_count": 157,
     "metadata": {},
     "output_type": "execute_result"
    }
   ],
   "source": [
    "d.std()"
   ]
  },
  {
   "cell_type": "markdown",
   "id": "d48ba262",
   "metadata": {},
   "source": [
    "##### Exercise 3. Determine the variance of c."
   ]
  },
  {
   "cell_type": "code",
   "execution_count": 159,
   "id": "154ed5bb",
   "metadata": {},
   "outputs": [
    {
     "data": {
      "text/plain": [
       "6.666666666666667"
      ]
     },
     "execution_count": 159,
     "metadata": {},
     "output_type": "execute_result"
    }
   ],
   "source": [
    "np.var(d)"
   ]
  },
  {
   "cell_type": "markdown",
   "id": "5b56e624",
   "metadata": {},
   "source": [
    "##### Exercise 4. Print out the shape of the array c"
   ]
  },
  {
   "cell_type": "code",
   "execution_count": 158,
   "id": "1bb4173f",
   "metadata": {},
   "outputs": [
    {
     "data": {
      "text/plain": [
       "(3, 3)"
      ]
     },
     "execution_count": 158,
     "metadata": {},
     "output_type": "execute_result"
    }
   ],
   "source": [
    "np.shape(d)"
   ]
  },
  {
   "cell_type": "markdown",
   "id": "b649e97f",
   "metadata": {},
   "source": [
    "##### Exercise 5. Transpose c and print out transposed result."
   ]
  },
  {
   "cell_type": "code",
   "execution_count": 163,
   "id": "df7426a8",
   "metadata": {},
   "outputs": [
    {
     "name": "stdout",
     "output_type": "stream",
     "text": [
      "[[1 4 7]\n",
      " [2 5 8]\n",
      " [3 6 9]]\n"
     ]
    }
   ],
   "source": [
    "print(np.transpose(d))"
   ]
  },
  {
   "cell_type": "markdown",
   "id": "190820de",
   "metadata": {},
   "source": [
    "##### Exercise 6. Get the dot product of the array c with c."
   ]
  },
  {
   "cell_type": "code",
   "execution_count": 164,
   "id": "bb88d326",
   "metadata": {},
   "outputs": [
    {
     "data": {
      "text/plain": [
       "array([[ 30,  36,  42],\n",
       "       [ 66,  81,  96],\n",
       "       [102, 126, 150]])"
      ]
     },
     "execution_count": 164,
     "metadata": {},
     "output_type": "execute_result"
    }
   ],
   "source": [
    "np.dot(d, d)"
   ]
  },
  {
   "cell_type": "markdown",
   "id": "c592e817",
   "metadata": {},
   "source": [
    "##### Exercise 7. Write the code necessary to sum up the result of c times c transposed. Answer should be 261"
   ]
  },
  {
   "cell_type": "code",
   "execution_count": 166,
   "id": "445b63d1",
   "metadata": {},
   "outputs": [
    {
     "data": {
      "text/plain": [
       "array([[ 1,  8, 21],\n",
       "       [ 8, 25, 48],\n",
       "       [21, 48, 81]])"
      ]
     },
     "execution_count": 166,
     "metadata": {},
     "output_type": "execute_result"
    }
   ],
   "source": [
    "d_x_d = d * np.transpose(d)\n",
    "d_x_d"
   ]
  },
  {
   "cell_type": "code",
   "execution_count": 167,
   "id": "e6f98289",
   "metadata": {},
   "outputs": [
    {
     "data": {
      "text/plain": [
       "261"
      ]
     },
     "execution_count": 167,
     "metadata": {},
     "output_type": "execute_result"
    }
   ],
   "source": [
    "d_x_d.sum()"
   ]
  },
  {
   "cell_type": "markdown",
   "id": "d628c57b",
   "metadata": {},
   "source": [
    "##### Exercise 8. Write the code necessary to determine the product of c times c transposed. Answer should be 131681894400."
   ]
  },
  {
   "cell_type": "code",
   "execution_count": 168,
   "id": "16effa94",
   "metadata": {},
   "outputs": [
    {
     "data": {
      "text/plain": [
       "131681894400"
      ]
     },
     "execution_count": 168,
     "metadata": {},
     "output_type": "execute_result"
    }
   ],
   "source": [
    "np.prod(d_x_d)"
   ]
  },
  {
   "cell_type": "markdown",
   "id": "c09fc5fb",
   "metadata": {},
   "source": [
    "## Setup 4"
   ]
  },
  {
   "cell_type": "code",
   "execution_count": 169,
   "id": "01d5cbfa",
   "metadata": {},
   "outputs": [],
   "source": [
    "d = [\n",
    "    [90, 30, 45, 0, 120, 180],\n",
    "    [45, -90, -30, 270, 90, 0],\n",
    "    [60, 45, -45, 90, -45, 180]\n",
    "]"
   ]
  },
  {
   "cell_type": "markdown",
   "id": "cf3f4077",
   "metadata": {},
   "source": [
    "##### Exercise 1. Find the sine of all the numbers in d"
   ]
  },
  {
   "cell_type": "code",
   "execution_count": null,
   "id": "08127a58",
   "metadata": {},
   "outputs": [],
   "source": []
  },
  {
   "cell_type": "markdown",
   "id": "094a0566",
   "metadata": {},
   "source": [
    "##### Exercise 2. Find the cosine of all the numbers in d"
   ]
  },
  {
   "cell_type": "code",
   "execution_count": null,
   "id": "4afbea8d",
   "metadata": {},
   "outputs": [],
   "source": []
  },
  {
   "cell_type": "markdown",
   "id": "eab096e0",
   "metadata": {},
   "source": [
    "##### Exercise 3. Find the tangent of all the numbers in d"
   ]
  },
  {
   "cell_type": "code",
   "execution_count": null,
   "id": "3deebaea",
   "metadata": {},
   "outputs": [],
   "source": []
  },
  {
   "cell_type": "markdown",
   "id": "cfddd34d",
   "metadata": {},
   "source": [
    "##### Exercise 4. Find all the negative numbers in d"
   ]
  },
  {
   "cell_type": "code",
   "execution_count": null,
   "id": "0cfbf33d",
   "metadata": {},
   "outputs": [],
   "source": []
  },
  {
   "cell_type": "markdown",
   "id": "28acc679",
   "metadata": {},
   "source": [
    "##### Exercise 5. Find all the positive numbers in d"
   ]
  },
  {
   "cell_type": "code",
   "execution_count": null,
   "id": "43075b4c",
   "metadata": {},
   "outputs": [],
   "source": []
  },
  {
   "cell_type": "markdown",
   "id": "a98be45b",
   "metadata": {},
   "source": [
    "##### Exercise 6. Return an array of only the unique numbers in d."
   ]
  },
  {
   "cell_type": "code",
   "execution_count": null,
   "id": "9b250290",
   "metadata": {},
   "outputs": [],
   "source": []
  },
  {
   "cell_type": "markdown",
   "id": "d3f7672b",
   "metadata": {},
   "source": [
    "##### Exercise 7. Determine how many unique numbers there are in d."
   ]
  },
  {
   "cell_type": "code",
   "execution_count": null,
   "id": "1e6507c9",
   "metadata": {},
   "outputs": [],
   "source": []
  },
  {
   "cell_type": "markdown",
   "id": "d507b883",
   "metadata": {},
   "source": [
    "##### Exercise 8. Print out the shape of d."
   ]
  },
  {
   "cell_type": "code",
   "execution_count": null,
   "id": "d587b213",
   "metadata": {},
   "outputs": [],
   "source": []
  },
  {
   "cell_type": "markdown",
   "id": "14950d71",
   "metadata": {},
   "source": [
    "##### Exercise 9. Transpose and then print out the shape of d."
   ]
  },
  {
   "cell_type": "code",
   "execution_count": null,
   "id": "b7786019",
   "metadata": {},
   "outputs": [],
   "source": []
  },
  {
   "cell_type": "markdown",
   "id": "1a3035ad",
   "metadata": {},
   "source": [
    "##### Exercise 10. Reshape d into an array of 9 x 2"
   ]
  },
  {
   "cell_type": "code",
   "execution_count": null,
   "id": "ac322e09",
   "metadata": {},
   "outputs": [],
   "source": []
  }
 ],
 "metadata": {
  "kernelspec": {
   "display_name": "Python 3 (ipykernel)",
   "language": "python",
   "name": "python3"
  },
  "language_info": {
   "codemirror_mode": {
    "name": "ipython",
    "version": 3
   },
   "file_extension": ".py",
   "mimetype": "text/x-python",
   "name": "python",
   "nbconvert_exporter": "python",
   "pygments_lexer": "ipython3",
   "version": "3.9.13"
  }
 },
 "nbformat": 4,
 "nbformat_minor": 5
}
